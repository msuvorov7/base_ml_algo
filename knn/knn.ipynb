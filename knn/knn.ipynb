{
 "cells": [
  {
   "cell_type": "code",
   "execution_count": 1,
   "metadata": {},
   "outputs": [],
   "source": [
    "import numpy as np\n",
    "import pandas as pd\n",
    "import matplotlib.pyplot as plt\n",
    "import seaborn as sns"
   ]
  },
  {
   "cell_type": "code",
   "execution_count": 2,
   "metadata": {},
   "outputs": [],
   "source": [
    "from sklearn.metrics import mean_squared_error"
   ]
  },
  {
   "cell_type": "code",
   "execution_count": 3,
   "metadata": {},
   "outputs": [],
   "source": [
    "from sklearn.neighbors import KNeighborsRegressor, KNeighborsClassifier"
   ]
  },
  {
   "cell_type": "code",
   "execution_count": 4,
   "metadata": {},
   "outputs": [],
   "source": [
    "def cosine_distance(A, B):\n",
    "    P = np.outer(np.sum(A**2, axis=1), np.sum(B**2, axis=1))\n",
    "    N = np.dot(A, B.T)\n",
    "    return 1 - N / np.sqrt(P)"
   ]
  },
  {
   "cell_type": "code",
   "execution_count": 5,
   "metadata": {},
   "outputs": [],
   "source": [
    "def euclidean_distance(a, b):\n",
    "    P = np.add.outer(np.sum(a**2, axis=1), np.sum(b**2, axis=1))\n",
    "    N = np.dot(a, b.T)\n",
    "    return np.sqrt(P - 2*N)"
   ]
  },
  {
   "cell_type": "code",
   "execution_count": 6,
   "metadata": {},
   "outputs": [],
   "source": [
    "class NearestNeighborsFinder:\n",
    "    \n",
    "    def __init__(self, n_neighbors, metric='euclidean'):\n",
    "        self.n_neighbors = n_neighbors\n",
    "        if metric == 'euclidean':\n",
    "            self.metric = euclidean_distance\n",
    "        elif metric == 'cosine':\n",
    "            self.metric = cosine_distance\n",
    "        else:\n",
    "            raise ValueError(\"Metric is not supported\", metric)\n",
    "            \n",
    "    def fit(self, X):\n",
    "        self._X = X\n",
    "        \n",
    "    def kneighbors(self, X, return_distance=False):\n",
    "        # строки - обьекты из теста\n",
    "        # столбцы - обьекты из трейна\n",
    "        ranks = self.metric(X, self._X)\n",
    "        if self.n_neighbors < ranks.shape[1]:\n",
    "            ind = np.argpartition(ranks, self.n_neighbors-1, axis=1)[:, :self.n_neighbors]\n",
    "            dist = np.take_along_axis(ranks, ind, axis=1)\n",
    "            ind = np.take_along_axis(ind, np.argsort(dist), axis=1)\n",
    "            if return_distance:\n",
    "                dist = np.take_along_axis(ranks, ind, axis=1)\n",
    "        else:\n",
    "            ind = np.argsort(ranks, axis=1)[:, :self.n_neighbors]\n",
    "            if return_distance:\n",
    "                dist = np.take_along_axis(ranks, ind, axis=1)\n",
    "        if return_distance:\n",
    "            return dist, ind\n",
    "        return ind"
   ]
  },
  {
   "cell_type": "code",
   "execution_count": 7,
   "metadata": {},
   "outputs": [],
   "source": [
    "from sklearn.neighbors import NearestNeighbors"
   ]
  },
  {
   "cell_type": "code",
   "execution_count": 8,
   "metadata": {},
   "outputs": [],
   "source": [
    "class KNN:\n",
    "    EPS = 1e-5\n",
    "    \n",
    "    def __init__(self, n_neighbors, algorithm='my_own', metric='euclidean', weights='uniform'):\n",
    "        \n",
    "        if algorithm == 'my_own':\n",
    "            finder = NearestNeighborsFinder(n_neighbors=n_neighbors, metric=metric)\n",
    "        elif algorithm in ('brute', 'ball_tree', 'kd_tree',):\n",
    "            finder = NearestNeighbors(n_neighbors=n_neighbors, algorithm=algorithm, metric=metric)\n",
    "        else:\n",
    "            raise ValueError(\"Algorithm is not supported\", algorithm)\n",
    "        \n",
    "        if weights not in ('uniform', 'distance'):\n",
    "            raise ValueError(\"Weighted algorithm is not supported\", weights)\n",
    "        self._finder = finder\n",
    "        self._weights = weights\n",
    "        \n",
    "    \n",
    "    def fit(self, X, y=None):\n",
    "        self._finder.fit(X)\n",
    "        self._labels = np.asarray(y)\n",
    "        return self\n",
    "    \n",
    "    \n",
    "    def kneighbors(self, X, return_distance=False):\n",
    "        return self._finder.kneighbors(X, return_distance=return_distance)\n",
    "    \n",
    "    \n",
    "    def predict(self, X):\n",
    "        distances, indices = self.kneighbors(X, return_distance=True)\n",
    "        return self._predict_precomputed(indices, distances)\n",
    "    \n",
    "    \n",
    "    def _predict_precomputed(self, indices, distances):\n",
    "        pass"
   ]
  },
  {
   "cell_type": "markdown",
   "metadata": {},
   "source": [
    "## Classifier"
   ]
  },
  {
   "cell_type": "code",
   "execution_count": 9,
   "metadata": {},
   "outputs": [],
   "source": [
    "class KNNClassifier(KNN):\n",
    "    \n",
    "    def _predict_precomputed(self, indices, distances):\n",
    "        y_pred = np.zeros(distances.shape[0])\n",
    "        if self._weights == 'uniform':\n",
    "            for i in range(distances.shape[0]):\n",
    "                y_nearest = self._labels[indices[i]]\n",
    "                values, counts = np.unique(y_nearest, return_counts=True)\n",
    "                y_pred[i] = values[np.argmax(counts)]\n",
    "            return y_pred\n",
    "        else:\n",
    "            for i in range(distances.shape[0]):\n",
    "                y_nearest = self._labels[indices[i]]\n",
    "                score = dict.fromkeys(np.unique(y_nearest), 0)\n",
    "                for j in range(distances.shape[1]):\n",
    "                    score[y_nearest[j]] += 1/(distances[i, j] + self.EPS)\n",
    "                    y_pred[i] = max(score, key=score.get)\n",
    "            return y_pred\n"
   ]
  },
  {
   "cell_type": "markdown",
   "metadata": {},
   "source": [
    "### Testing"
   ]
  },
  {
   "cell_type": "code",
   "execution_count": 10,
   "metadata": {},
   "outputs": [],
   "source": [
    "from sklearn import datasets\n",
    "from sklearn.model_selection import train_test_split\n",
    "import time"
   ]
  },
  {
   "cell_type": "code",
   "execution_count": 11,
   "metadata": {},
   "outputs": [],
   "source": [
    "X, y = datasets.fetch_openml('mnist_784', version=1, return_X_y=True)"
   ]
  },
  {
   "cell_type": "code",
   "execution_count": 12,
   "metadata": {},
   "outputs": [],
   "source": [
    "algorithms = ['kd_tree', 'ball_tree', 'brute', 'my_own']"
   ]
  },
  {
   "cell_type": "code",
   "execution_count": 13,
   "metadata": {},
   "outputs": [
    {
     "data": {
      "image/png": "[encoded data removed]",
      "text/plain": [
       "<Figure size 864x432 with 1 Axes>"
      ]
     },
     "metadata": {
      "needs_background": "light"
     },
     "output_type": "display_data"
    },
    {
     "data": {
      "image/png": "[encoded data removed]",
      "text/plain": [
       "<Figure size 864x432 with 1 Axes>"
      ]
     },
     "metadata": {
      "needs_background": "light"
     },
     "output_type": "display_data"
    },
    {
     "data": {
      "image/png": "[encoded data removed]",
      "text/plain": [
       "<Figure size 864x432 with 1 Axes>"
      ]
     },
     "metadata": {
      "needs_background": "light"
     },
     "output_type": "display_data"
    },
    {
     "data": {
      "image/png": "[encoded data removed]",
      "text/plain": [
       "<Figure size 864x432 with 1 Axes>"
      ]
     },
     "metadata": {
      "needs_background": "light"
     },
     "output_type": "display_data"
    }
   ],
   "source": [
    "for i in [10, 20, 100, 200]:\n",
    "    scores = dict()\n",
    "    cols = sorted(np.random.choice(784, i))\n",
    "    x = X[:40000, cols]\n",
    "    x_train, x_test, y_train, y_test = train_test_split(x, y[:40000], random_state=42)\n",
    "    for algo in algorithms:\n",
    "        knn = KNNClassifier(n_neighbors=5, algorithm=algo)\n",
    "        knn.fit(x_train, y_train)\n",
    "    \n",
    "        start_time = time.time()\n",
    "        knn.predict(x_test)\n",
    "        scores[algo] = time.time() - start_time\n",
    "\n",
    "    plt.figure(figsize=(12,6))\n",
    "    plt.bar(scores.keys(), scores.values(), color = 'red', edgecolor = 'black', width=0.5)\n",
    "    plt.title(str(i) + ' колонок')\n",
    "    plt.show()"
   ]
  },
  {
   "cell_type": "markdown",
   "metadata": {},
   "source": [
    "### Breast cancer"
   ]
  },
  {
   "cell_type": "code",
   "execution_count": 14,
   "metadata": {},
   "outputs": [],
   "source": [
    "from sklearn.datasets import load_breast_cancer\n",
    "from sklearn.preprocessing import StandardScaler\n",
    "from sklearn.metrics import classification_report"
   ]
  },
  {
   "cell_type": "code",
   "execution_count": 15,
   "metadata": {},
   "outputs": [],
   "source": [
    "X, y = load_breast_cancer().data, load_breast_cancer().target"
   ]
  },
  {
   "cell_type": "code",
   "execution_count": 16,
   "metadata": {},
   "outputs": [],
   "source": [
    "X_train, X_test, y_train, y_test = train_test_split(X, y, random_state=42)"
   ]
  },
  {
   "cell_type": "code",
   "execution_count": 17,
   "metadata": {},
   "outputs": [],
   "source": [
    "scaler = StandardScaler()\n",
    "X_train = scaler.fit_transform(X_train)\n",
    "X_test = scaler.transform(X_test)"
   ]
  },
  {
   "cell_type": "code",
   "execution_count": 18,
   "metadata": {},
   "outputs": [
    {
     "name": "stdout",
     "output_type": "stream",
     "text": [
      "              precision    recall  f1-score   support\n",
      "\n",
      "           0       0.94      0.94      0.94        54\n",
      "           1       0.97      0.97      0.97        89\n",
      "\n",
      "    accuracy                           0.96       143\n",
      "   macro avg       0.96      0.96      0.96       143\n",
      "weighted avg       0.96      0.96      0.96       143\n",
      "\n"
     ]
    }
   ],
   "source": [
    "knn = KNNClassifier(n_neighbors=5, algorithm='my_own')\n",
    "knn.fit(X_train, y_train)\n",
    "y_preds = knn.predict(X_test)\n",
    "print(classification_report(y_test, y_preds))"
   ]
  },
  {
   "cell_type": "code",
   "execution_count": 19,
   "metadata": {},
   "outputs": [
    {
     "name": "stdout",
     "output_type": "stream",
     "text": [
      "              precision    recall  f1-score   support\n",
      "\n",
      "           0       0.94      0.94      0.94        54\n",
      "           1       0.97      0.97      0.97        89\n",
      "\n",
      "    accuracy                           0.96       143\n",
      "   macro avg       0.96      0.96      0.96       143\n",
      "weighted avg       0.96      0.96      0.96       143\n",
      "\n"
     ]
    }
   ],
   "source": [
    "knn = KNeighborsClassifier(n_neighbors=5)\n",
    "knn.fit(X_train, y_train)\n",
    "y_preds = knn.predict(X_test)\n",
    "print(classification_report(y_test, y_preds))"
   ]
  },
  {
   "cell_type": "code",
   "execution_count": 20,
   "metadata": {},
   "outputs": [
    {
     "name": "stdout",
     "output_type": "stream",
     "text": [
      "              precision    recall  f1-score   support\n",
      "\n",
      "           0       0.93      0.98      0.95        54\n",
      "           1       0.99      0.96      0.97        89\n",
      "\n",
      "    accuracy                           0.97       143\n",
      "   macro avg       0.96      0.97      0.96       143\n",
      "weighted avg       0.97      0.97      0.97       143\n",
      "\n"
     ]
    }
   ],
   "source": [
    "knn = KNNClassifier(n_neighbors=5, algorithm='my_own', metric='cosine')\n",
    "knn.fit(X_train, y_train)\n",
    "y_preds = knn.predict(X_test)\n",
    "print(classification_report(y_test, y_preds))"
   ]
  },
  {
   "cell_type": "markdown",
   "metadata": {},
   "source": [
    "## BatchedKNNClassifier"
   ]
  },
  {
   "cell_type": "markdown",
   "metadata": {},
   "source": [
    "Нам нужен этот класс, потому что мы хотим поддержку обработки батчами"
   ]
  },
  {
   "cell_type": "code",
   "execution_count": 21,
   "metadata": {},
   "outputs": [],
   "source": [
    "class BatchedKNNClassifier(KNNClassifier):\n",
    "\n",
    "    def __init__(self, n_neighbors, algorithm='my_own', metric='euclidean', weights='uniform', batch_size=None):\n",
    "        KNNClassifier.__init__(\n",
    "            self,\n",
    "            n_neighbors=n_neighbors,\n",
    "            algorithm=algorithm,\n",
    "            weights=weights,\n",
    "            metric=metric,\n",
    "        )\n",
    "        self._batch_size = batch_size\n",
    "        \n",
    "    def kneighbors(self, X, return_distance=False):\n",
    "        if self._batch_size is None or self._batch_size >= X.shape[0]:\n",
    "            return super().kneighbors(X, return_distance=return_distance)\n",
    "        else:\n",
    "            if return_distance:\n",
    "                distances = []\n",
    "                indexes = []\n",
    "                for i_min in range(0, X.shape[0], self._batch_size):\n",
    "                    i_max = min(i_min + self._batch_size, X.shape[0])\n",
    "                    dist, ind = super().kneighbors(X[i_min:i_max], return_distance=return_distance)\n",
    "                    distances.append(dist)\n",
    "                    indexes.append(ind)\n",
    "                return np.vstack(distances), np.vstack(indexes)\n",
    "            else:\n",
    "                indexes = []\n",
    "                for i_min in range(0, X.shape[0], self._batch_size):\n",
    "                    i_max = min(i_min + self._batch_size, X.shape[0])\n",
    "                    ind = super().kneighbors(X[i_min:i_max], return_distance=return_distance)\n",
    "                    indexes.append(ind)\n",
    "                return np.vstack(indexes)"
   ]
  },
  {
   "cell_type": "markdown",
   "metadata": {},
   "source": [
    "### Testing"
   ]
  },
  {
   "cell_type": "code",
   "execution_count": 22,
   "metadata": {},
   "outputs": [],
   "source": [
    "X, y = datasets.fetch_openml('mnist_784', version=1, return_X_y=True)"
   ]
  },
  {
   "cell_type": "code",
   "execution_count": 23,
   "metadata": {},
   "outputs": [
    {
     "data": {
      "image/png": "[encoded data removed]",
      "text/plain": [
       "<Figure size 864x432 with 1 Axes>"
      ]
     },
     "metadata": {
      "needs_background": "light"
     },
     "output_type": "display_data"
    },
    {
     "data": {
      "image/png": "[encoded data removed]",
      "text/plain": [
       "<Figure size 864x432 with 1 Axes>"
      ]
     },
     "metadata": {
      "needs_background": "light"
     },
     "output_type": "display_data"
    },
    {
     "data": {
      "image/png": "[encoded data removed]",
      "text/plain": [
       "<Figure size 864x432 with 1 Axes>"
      ]
     },
     "metadata": {
      "needs_background": "light"
     },
     "output_type": "display_data"
    },
    {
     "data": {
      "image/png": "[encoded data removed]",
      "text/plain": [
       "<Figure size 864x432 with 1 Axes>"
      ]
     },
     "metadata": {
      "needs_background": "light"
     },
     "output_type": "display_data"
    }
   ],
   "source": [
    "for i in [10, 20, 100, 200]:\n",
    "    scores = dict()\n",
    "    cols = sorted(np.random.choice(784, i))\n",
    "    x = X[:40000, cols]\n",
    "    x_train, x_test, y_train, y_test = train_test_split(x, y[:40000], random_state=42)\n",
    "    for algo in algorithms:\n",
    "        knn = BatchedKNNClassifier(n_neighbors=5, algorithm=algo, batch_size=32)\n",
    "        knn.fit(x_train, y_train)\n",
    "    \n",
    "        start_time = time.time()\n",
    "        knn.predict(x_test)\n",
    "        scores[algo] = time.time() - start_time\n",
    "\n",
    "    plt.figure(figsize=(12,6))\n",
    "    plt.bar(scores.keys(), scores.values(), color = 'red', edgecolor = 'black', width=0.5)\n",
    "    plt.title(str(i) + ' колонок')\n",
    "    plt.show()"
   ]
  },
  {
   "cell_type": "markdown",
   "metadata": {},
   "source": [
    "### Breast cancer"
   ]
  },
  {
   "cell_type": "code",
   "execution_count": 24,
   "metadata": {},
   "outputs": [],
   "source": [
    "X, y = load_breast_cancer().data, load_breast_cancer().target"
   ]
  },
  {
   "cell_type": "code",
   "execution_count": 25,
   "metadata": {},
   "outputs": [],
   "source": [
    "X_train, X_test, y_train, y_test = train_test_split(X, y, random_state=42)"
   ]
  },
  {
   "cell_type": "code",
   "execution_count": 26,
   "metadata": {},
   "outputs": [],
   "source": [
    "scaler = StandardScaler()\n",
    "X_train = scaler.fit_transform(X_train)\n",
    "X_test = scaler.transform(X_test)"
   ]
  },
  {
   "cell_type": "code",
   "execution_count": 27,
   "metadata": {},
   "outputs": [
    {
     "name": "stdout",
     "output_type": "stream",
     "text": [
      "              precision    recall  f1-score   support\n",
      "\n",
      "           0       0.94      0.94      0.94        54\n",
      "           1       0.97      0.97      0.97        89\n",
      "\n",
      "    accuracy                           0.96       143\n",
      "   macro avg       0.96      0.96      0.96       143\n",
      "weighted avg       0.96      0.96      0.96       143\n",
      "\n"
     ]
    }
   ],
   "source": [
    "knn = BatchedKNNClassifier(n_neighbors=5, algorithm='my_own', batch_size=32)\n",
    "knn.fit(X_train, y_train)\n",
    "y_preds = knn.predict(X_test)\n",
    "print(classification_report(y_test, y_preds))"
   ]
  },
  {
   "cell_type": "markdown",
   "metadata": {},
   "source": [
    "## Regression"
   ]
  },
  {
   "cell_type": "code",
   "execution_count": 28,
   "metadata": {},
   "outputs": [],
   "source": [
    "class KNNRegressor(KNN):\n",
    "    \n",
    "    def _predict_precomputed(self, indices, distances):\n",
    "        y_pred = np.zeros(distances.shape[0])\n",
    "        if self._weights == 'uniform':\n",
    "            for i in range(distances.shape[0]):\n",
    "                y_nearest = self._labels[indices[i]]\n",
    "                y_pred[i] = np.mean(y_nearest)\n",
    "            return y_pred\n",
    "        else:\n",
    "            for i in range(distances.shape[0]):\n",
    "                y_nearest = self._labels[indices[i]]\n",
    "                weights = np.zeros(distances.shape[1])\n",
    "                for j in range(distances.shape[1]):\n",
    "                    weights[j] = 1 / (distances[i, j] + self.EPS)\n",
    "                y_pred[i] = np.dot(y_nearest, weights) / np.sum(weights)\n",
    "            return y_pred\n"
   ]
  },
  {
   "cell_type": "code",
   "execution_count": 29,
   "metadata": {},
   "outputs": [],
   "source": [
    "class BatchedKNNRegressor(KNNRegressor):\n",
    "\n",
    "    def __init__(self, n_neighbors, algorithm='my_own', metric='euclidean', weights='uniform', batch_size=None):\n",
    "        KNNRegressor.__init__(\n",
    "            self,\n",
    "            n_neighbors=n_neighbors,\n",
    "            algorithm=algorithm,\n",
    "            weights=weights,\n",
    "            metric=metric,\n",
    "        )\n",
    "        self._batch_size = batch_size\n",
    "        \n",
    "    def kneighbors(self, X, return_distance=False):\n",
    "        if self._batch_size is None or self._batch_size >= X.shape[0]:\n",
    "            return super().kneighbors(X, return_distance=return_distance)\n",
    "        else:\n",
    "            if return_distance:\n",
    "                distances = []\n",
    "                indexes = []\n",
    "                for i_min in range(0, X.shape[0], self._batch_size):\n",
    "                    i_max = min(i_min + self._batch_size, X.shape[0])\n",
    "                    dist, ind = super().kneighbors(X[i_min:i_max], return_distance=return_distance)\n",
    "                    distances.append(dist)\n",
    "                    indexes.append(ind)\n",
    "                return np.vstack(distances), np.vstack(indexes)\n",
    "            else:\n",
    "                indexes = []\n",
    "                for i_min in range(0, X.shape[0], self._batch_size):\n",
    "                    i_max = min(i_min + self._batch_size, X.shape[0])\n",
    "                    ind = super().kneighbors(X[i_min:i_max], return_distance=return_distance)\n",
    "                    indexes.append(ind)\n",
    "                return np.vstack(indexes)"
   ]
  },
  {
   "cell_type": "markdown",
   "metadata": {},
   "source": [
    "### Boston Dataset"
   ]
  },
  {
   "cell_type": "code",
   "execution_count": 30,
   "metadata": {},
   "outputs": [],
   "source": [
    "from sklearn.datasets import load_boston"
   ]
  },
  {
   "cell_type": "code",
   "execution_count": 31,
   "metadata": {},
   "outputs": [],
   "source": [
    "X, y = load_boston().data, load_boston().target"
   ]
  },
  {
   "cell_type": "code",
   "execution_count": 32,
   "metadata": {},
   "outputs": [],
   "source": [
    "X_train, X_test, y_train, y_test = train_test_split(X, y, random_state=42)"
   ]
  },
  {
   "cell_type": "code",
   "execution_count": 33,
   "metadata": {},
   "outputs": [],
   "source": [
    "scaler = StandardScaler()\n",
    "X_train = scaler.fit_transform(X_train)\n",
    "X_test = scaler.transform(X_test)"
   ]
  },
  {
   "cell_type": "code",
   "execution_count": 34,
   "metadata": {},
   "outputs": [
    {
     "data": {
      "text/plain": [
       "18.67099589780659"
      ]
     },
     "execution_count": 34,
     "metadata": {},
     "output_type": "execute_result"
    }
   ],
   "source": [
    "knn = BatchedKNNRegressor(n_neighbors=5, algorithm='my_own', batch_size=32, weights='distance')\n",
    "knn.fit(X_train, y_train)\n",
    "mean_squared_error(y_test, knn.predict(X_test))"
   ]
  },
  {
   "cell_type": "code",
   "execution_count": 35,
   "metadata": {},
   "outputs": [
    {
     "data": {
      "text/plain": [
       "18.670983333716173"
      ]
     },
     "execution_count": 35,
     "metadata": {},
     "output_type": "execute_result"
    }
   ],
   "source": [
    "knn = KNeighborsRegressor(n_neighbors=5, weights='distance')\n",
    "knn.fit(X_train, y_train)\n",
    "mean_squared_error(y_test, knn.predict(X_test))"
   ]
  },
  {
   "cell_type": "code",
   "execution_count": null,
   "metadata": {},
   "outputs": [],
   "source": []
  }
 ],
 "metadata": {
  "kernelspec": {
   "display_name": "Python 3",
   "language": "python",
   "name": "python3"
  },
  "language_info": {
   "codemirror_mode": {
    "name": "ipython",
    "version": 3
   },
   "file_extension": ".py",
   "mimetype": "text/x-python",
   "name": "python",
   "nbconvert_exporter": "python",
   "pygments_lexer": "ipython3",
   "version": "3.8.5"
  }
 },
 "nbformat": 4,
 "nbformat_minor": 4
}
